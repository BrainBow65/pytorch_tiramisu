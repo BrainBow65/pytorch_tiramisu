{
 "cells": [
  {
   "cell_type": "code",
   "execution_count": 2,
   "id": "59007a91",
   "metadata": {},
   "outputs": [],
   "source": [
    "%matplotlib inline\n",
    "%load_ext autoreload\n",
    "%autoreload 2\n",
    "\n",
    "import time\n",
    "from pathlib import Path\n",
    "import numpy as np\n",
    "import matplotlib.pyplot as plt\n",
    "\n",
    "import torch\n",
    "import torch.nn as nn\n",
    "import torch.optim as optim\n",
    "import torchvision\n",
    "import torchvision.transforms as transforms\n",
    "\n",
    "from models import tiramisu\n",
    "from datasets import ivy_gap\n"
   ]
  },
  {
   "cell_type": "code",
   "execution_count": 33,
   "id": "08036a6d",
   "metadata": {},
   "outputs": [],
   "source": [
    "dataset = ivy_gap.IvyGap(\n",
    "    root=\"Ivy_gap_dataset\", split=\"train\")"
   ]
  },
  {
   "cell_type": "code",
   "execution_count": 37,
   "id": "c4611449",
   "metadata": {},
   "outputs": [],
   "source": [
    "raw, annot = dataset[5]\n",
    "annot.show()"
   ]
  }
 ],
 "metadata": {
  "kernelspec": {
   "display_name": "pytorch_tiramisu",
   "language": "python",
   "name": "python3"
  },
  "language_info": {
   "codemirror_mode": {
    "name": "ipython",
    "version": 3
   },
   "file_extension": ".py",
   "mimetype": "text/x-python",
   "name": "python",
   "nbconvert_exporter": "python",
   "pygments_lexer": "ipython3",
   "version": "3.12.9"
  }
 },
 "nbformat": 4,
 "nbformat_minor": 5
}
