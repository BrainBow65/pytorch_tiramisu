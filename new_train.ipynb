{
 "cells": [
  {
   "cell_type": "markdown",
   "id": "5fb93218",
   "metadata": {},
   "source": [
    "# Dependencies"
   ]
  },
  {
   "cell_type": "code",
   "execution_count": 1,
   "id": "cc1a07a5",
   "metadata": {},
   "outputs": [],
   "source": [
    "%matplotlib inline\n",
    "%load_ext autoreload\n",
    "%autoreload 2\n",
    "\n",
    "import time\n",
    "from pathlib import Path\n",
    "import numpy as np\n",
    "import matplotlib.pyplot as plt\n",
    "\n",
    "import torchvision.transforms as transforms\n",
    "from datasets import camvid\n",
    "from datasets import joint_transforms"
   ]
  },
  {
   "cell_type": "markdown",
   "id": "c3ac27ad",
   "metadata": {},
   "source": [
    "# Data"
   ]
  },
  {
   "cell_type": "markdown",
   "id": "65b352ba",
   "metadata": {},
   "source": [
    "\n",
    "download the data"
   ]
  },
  {
   "cell_type": "code",
   "execution_count": null,
   "id": "78027600",
   "metadata": {},
   "outputs": [],
   "source": [
    "!git clone https://github.com/alexgkendall/SegNet-Tutorial;"
   ]
  },
  {
   "cell_type": "code",
   "execution_count": 3,
   "id": "9215e464",
   "metadata": {},
   "outputs": [],
   "source": [
    "CAMVID_PATH = Path('SegNet-Tutorial/CamVid')\n",
    "RESULTS_PATH = Path('.results/')\n",
    "WEIGHTS_PATH = Path('.weights/')\n",
    "RESULTS_PATH.mkdir(exist_ok=True)\n",
    "WEIGHTS_PATH.mkdir(exist_ok=True)\n",
    "batch_size = 2"
   ]
  },
  {
   "cell_type": "code",
   "execution_count": null,
   "id": "fb8557d8",
   "metadata": {},
   "outputs": [
    {
     "data": {
      "text/plain": [
       "Compose(\n",
       "    <datasets.joint_transforms.JointRandomCrop object at 0x000002518CB54350>\n",
       "    <datasets.joint_transforms.JointRandomHorizontalFlip object at 0x000002518C62C470>\n",
       ")"
      ]
     },
     "execution_count": 5,
     "metadata": {},
     "output_type": "execute_result"
    }
   ],
   "source": [
    "normalize = transforms.Normalize(mean=camvid.mean, std=camvid.std)\n",
    "train_joint_transformer = transforms.Compose([\n",
    "    joint_transforms.JointRandomCrop(224), # crop 224-by-224 section\n",
    "    joint_transforms.JointRandomHorizontalFlip() # flip with 50% probability\n",
    "])\n",
    "\n",
    "train_dset = camvid.CamVid(CAMVID_PATH, 'train',\n",
    "      joint_transform=train_joint_transformer,\n",
    "      transform=transforms.Compose([\n",
    "          transforms.ToTensor(),\n",
    "          normalize,\n",
    "    ]))\n",
    "#train_loader = torch.utils.data.DataLoader(train_dset, batch_size=batch_size, shuffle=True)"
   ]
  }
 ],
 "metadata": {
  "kernelspec": {
   "display_name": "torch",
   "language": "python",
   "name": "python3"
  },
  "language_info": {
   "codemirror_mode": {
    "name": "ipython",
    "version": 3
   },
   "file_extension": ".py",
   "mimetype": "text/x-python",
   "name": "python",
   "nbconvert_exporter": "python",
   "pygments_lexer": "ipython3",
   "version": "3.12.11"
  }
 },
 "nbformat": 4,
 "nbformat_minor": 5
}
